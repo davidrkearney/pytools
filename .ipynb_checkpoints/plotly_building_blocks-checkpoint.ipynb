{
 "cells": [
  {
   "cell_type": "code",
   "execution_count": 1,
   "metadata": {},
   "outputs": [
    {
     "name": "stdout",
     "output_type": "stream",
     "text": [
      "2.7.0\n"
     ]
    },
    {
     "data": {
      "text/html": [
       "<script>requirejs.config({paths: { 'plotly': ['https://cdn.plot.ly/plotly-latest.min']},});if(!window.Plotly) {{require(['plotly'],function(plotly) {window.Plotly=plotly;});}}</script>"
      ],
      "text/vnd.plotly.v1+html": [
       "<script>requirejs.config({paths: { 'plotly': ['https://cdn.plot.ly/plotly-latest.min']},});if(!window.Plotly) {{require(['plotly'],function(plotly) {window.Plotly=plotly;});}}</script>"
      ]
     },
     "metadata": {},
     "output_type": "display_data"
    },
    {
     "data": {
      "application/vnd.plotly.v1+json": {
       "data": [
        {
         "type": "scatter",
         "x": [
          2,
          5,
          8,
          0,
          2,
          -8,
          4,
          3,
          1
         ],
         "y": [
          2,
          5,
          8,
          0,
          2,
          -8,
          4,
          3,
          1
         ]
        }
       ],
       "layout": {
        "height": 500,
        "title": "Offline Plotly Testing",
        "width": 800,
        "xaxis": {
         "title": "X-axis"
        },
        "yaxis": {
         "title": "Y-axis"
        }
       }
      },
      "text/html": [
       "<div id=\"1d5abf1e-093e-4398-b639-cb289c17fa2f\" style=\"height: 500px; width: 800px;\" class=\"plotly-graph-div\"></div><script type=\"text/javascript\">require([\"plotly\"], function(Plotly) { window.PLOTLYENV=window.PLOTLYENV || {};window.PLOTLYENV.BASE_URL=\"https://plot.ly\";Plotly.newPlot(\"1d5abf1e-093e-4398-b639-cb289c17fa2f\", [{\"type\": \"scatter\", \"x\": [2, 5, 8, 0, 2, -8, 4, 3, 1], \"y\": [2, 5, 8, 0, 2, -8, 4, 3, 1]}], {\"title\": \"Offline Plotly Testing\", \"width\": 800, \"height\": 500, \"xaxis\": {\"title\": \"X-axis\"}, \"yaxis\": {\"title\": \"Y-axis\"}}, {\"showLink\": false, \"linkText\": \"Export to plot.ly\"})});</script>"
      ],
      "text/vnd.plotly.v1+html": [
       "<div id=\"1d5abf1e-093e-4398-b639-cb289c17fa2f\" style=\"height: 500px; width: 800px;\" class=\"plotly-graph-div\"></div><script type=\"text/javascript\">require([\"plotly\"], function(Plotly) { window.PLOTLYENV=window.PLOTLYENV || {};window.PLOTLYENV.BASE_URL=\"https://plot.ly\";Plotly.newPlot(\"1d5abf1e-093e-4398-b639-cb289c17fa2f\", [{\"type\": \"scatter\", \"x\": [2, 5, 8, 0, 2, -8, 4, 3, 1], \"y\": [2, 5, 8, 0, 2, -8, 4, 3, 1]}], {\"title\": \"Offline Plotly Testing\", \"width\": 800, \"height\": 500, \"xaxis\": {\"title\": \"X-axis\"}, \"yaxis\": {\"title\": \"Y-axis\"}}, {\"showLink\": false, \"linkText\": \"Export to plot.ly\"})});</script>"
      ]
     },
     "metadata": {},
     "output_type": "display_data"
    }
   ],
   "source": [
    "import numpy as np\n",
    "from plotly import __version__\n",
    "from plotly.offline import download_plotlyjs, init_notebook_mode, plot,iplot\n",
    "print (__version__) # requires version >= 1.9.0\n",
    "\n",
    "#Always run this the command before at the start of notebook\n",
    "init_notebook_mode(connected=True)\n",
    "import plotly.graph_objs as go\n",
    "\n",
    "x=np.array([2,5,8,0,2,-8,4,3,1])\n",
    "y=np.array([2,5,8,0,2,-8,4,3,1])\n",
    "\n",
    "\n",
    "data = [go.Scatter(x=x,y=y)]\n",
    "fig = go.Figure(data = data,layout = go.Layout(title='Offline Plotly Testing',width = 800,height = 500,\n",
    "                                           xaxis = dict(title = 'X-axis'), yaxis = dict(title = 'Y-axis')))\n",
    "\n",
    "\n",
    "iplot(fig,show_link = False)"
   ]
  },
  {
   "cell_type": "code",
   "execution_count": null,
   "metadata": {},
   "outputs": [],
   "source": [
    "import numpy as np\n",
    "from plotly import __version__\n",
    "from plotly.offline import download_plotlyjs, init_notebook_mode, plot,iplot\n",
    "print (__version__) # requires version >= 1.9.0\n",
    "\n",
    "\n",
    "#Always run this the command before at the start of notebook\n",
    "init_notebook_mode(connected=True)\n",
    "import plotly.graph_objs as go\n",
    "\n",
    "data = [go.Bar(\n",
    "            x=['giraffes', 'orangutans', 'monkeys'],\n",
    "            y=[20, 14, 23]\n",
    "    )]\n",
    "\n",
    "iplot(data, filename='basic-bar')"
   ]
  },
  {
   "cell_type": "code",
   "execution_count": 2,
   "metadata": {},
   "outputs": [
    {
     "name": "stdout",
     "output_type": "stream",
     "text": [
      "2.7.0\n"
     ]
    },
    {
     "data": {
      "text/html": [
       "<script>requirejs.config({paths: { 'plotly': ['https://cdn.plot.ly/plotly-latest.min']},});if(!window.Plotly) {{require(['plotly'],function(plotly) {window.Plotly=plotly;});}}</script>"
      ],
      "text/vnd.plotly.v1+html": [
       "<script>requirejs.config({paths: { 'plotly': ['https://cdn.plot.ly/plotly-latest.min']},});if(!window.Plotly) {{require(['plotly'],function(plotly) {window.Plotly=plotly;});}}</script>"
      ]
     },
     "metadata": {},
     "output_type": "display_data"
    },
    {
     "data": {
      "application/vnd.plotly.v1+json": {
       "data": [
        {
         "marker": {
          "color": "rgb(55, 83, 109)"
         },
         "name": "All Other Province Leaders",
         "type": "bar",
         "x": [
          1996,
          1997,
          1998,
          1999,
          2000,
          2001,
          2002,
          2003,
          2004,
          2005,
          2006,
          2007
         ],
         "y": [
          188870.9,
          185182.9,
          237697.5,
          347187.9,
          296716.7,
          397833.1,
          440204.8,
          514254.3,
          686016.6,
          677746.3,
          940057.9,
          1881304
         ]
        },
        {
         "marker": {
          "color": "rgb(26, 118, 255)"
         },
         "name": "Incumbent Connected Province Leaders",
         "type": "bar",
         "x": [
          1996,
          1997,
          1998,
          1999,
          2000,
          2001,
          2002,
          2003,
          2004,
          2005,
          2006,
          2007
         ],
         "y": [
          260376,
          264934.7,
          367350.2,
          463861.2,
          199068.5,
          216582.6,
          298631.8,
          409759.3,
          830363.2,
          878158,
          1143745,
          2125891
         ]
        }
       ],
       "layout": {
        "bargap": 0.15,
        "bargroupgap": 0.1,
        "barmode": "group",
        "legend": {
         "bgcolor": "rgba(255, 255, 255, 0)",
         "bordercolor": "rgba(255, 255, 255, 0)",
         "x": 0,
         "y": 1
        },
        "title": "Specific Purpose Transfers",
        "xaxis": {
         "tickfont": {
          "color": "rgb(107, 107, 107)",
          "size": 14
         }
        },
        "yaxis": {
         "tickfont": {
          "color": "rgb(107, 107, 107)",
          "size": 14
         },
         "title": "RMB (hundred millions)",
         "titlefont": {
          "color": "rgb(107, 107, 107)",
          "size": 16
         }
        }
       }
      },
      "text/html": [
       "<div id=\"38364717-77b0-4e31-86ec-e4a22d13fb3c\" style=\"height: 525px; width: 100%;\" class=\"plotly-graph-div\"></div><script type=\"text/javascript\">require([\"plotly\"], function(Plotly) { window.PLOTLYENV=window.PLOTLYENV || {};window.PLOTLYENV.BASE_URL=\"https://plot.ly\";Plotly.newPlot(\"38364717-77b0-4e31-86ec-e4a22d13fb3c\", [{\"type\": \"bar\", \"x\": [1996, 1997, 1998, 1999, 2000, 2001, 2002, 2003, 2004, 2005, 2006, 2007], \"y\": [188870.9, 185182.9, 237697.5, 347187.9, 296716.7, 397833.1, 440204.8, 514254.3, 686016.6, 677746.3, 940057.9, 1881304], \"name\": \"All Other Province Leaders\", \"marker\": {\"color\": \"rgb(55, 83, 109)\"}}, {\"type\": \"bar\", \"x\": [1996, 1997, 1998, 1999, 2000, 2001, 2002, 2003, 2004, 2005, 2006, 2007], \"y\": [260376.0, 264934.7, 367350.2, 463861.2, 199068.5, 216582.6, 298631.8, 409759.3, 830363.2, 878158.0, 1143745.0, 2125891.0], \"name\": \"Incumbent Connected Province Leaders\", \"marker\": {\"color\": \"rgb(26, 118, 255)\"}}], {\"title\": \"Specific Purpose Transfers\", \"xaxis\": {\"tickfont\": {\"size\": 14, \"color\": \"rgb(107, 107, 107)\"}}, \"yaxis\": {\"title\": \"RMB (hundred millions)\", \"titlefont\": {\"size\": 16, \"color\": \"rgb(107, 107, 107)\"}, \"tickfont\": {\"size\": 14, \"color\": \"rgb(107, 107, 107)\"}}, \"legend\": {\"x\": 0, \"y\": 1.0, \"bgcolor\": \"rgba(255, 255, 255, 0)\", \"bordercolor\": \"rgba(255, 255, 255, 0)\"}, \"barmode\": \"group\", \"bargap\": 0.15, \"bargroupgap\": 0.1}, {\"showLink\": true, \"linkText\": \"Export to plot.ly\"})});</script>"
      ],
      "text/vnd.plotly.v1+html": [
       "<div id=\"38364717-77b0-4e31-86ec-e4a22d13fb3c\" style=\"height: 525px; width: 100%;\" class=\"plotly-graph-div\"></div><script type=\"text/javascript\">require([\"plotly\"], function(Plotly) { window.PLOTLYENV=window.PLOTLYENV || {};window.PLOTLYENV.BASE_URL=\"https://plot.ly\";Plotly.newPlot(\"38364717-77b0-4e31-86ec-e4a22d13fb3c\", [{\"type\": \"bar\", \"x\": [1996, 1997, 1998, 1999, 2000, 2001, 2002, 2003, 2004, 2005, 2006, 2007], \"y\": [188870.9, 185182.9, 237697.5, 347187.9, 296716.7, 397833.1, 440204.8, 514254.3, 686016.6, 677746.3, 940057.9, 1881304], \"name\": \"All Other Province Leaders\", \"marker\": {\"color\": \"rgb(55, 83, 109)\"}}, {\"type\": \"bar\", \"x\": [1996, 1997, 1998, 1999, 2000, 2001, 2002, 2003, 2004, 2005, 2006, 2007], \"y\": [260376.0, 264934.7, 367350.2, 463861.2, 199068.5, 216582.6, 298631.8, 409759.3, 830363.2, 878158.0, 1143745.0, 2125891.0], \"name\": \"Incumbent Connected Province Leaders\", \"marker\": {\"color\": \"rgb(26, 118, 255)\"}}], {\"title\": \"Specific Purpose Transfers\", \"xaxis\": {\"tickfont\": {\"size\": 14, \"color\": \"rgb(107, 107, 107)\"}}, \"yaxis\": {\"title\": \"RMB (hundred millions)\", \"titlefont\": {\"size\": 16, \"color\": \"rgb(107, 107, 107)\"}, \"tickfont\": {\"size\": 14, \"color\": \"rgb(107, 107, 107)\"}}, \"legend\": {\"x\": 0, \"y\": 1.0, \"bgcolor\": \"rgba(255, 255, 255, 0)\", \"bordercolor\": \"rgba(255, 255, 255, 0)\"}, \"barmode\": \"group\", \"bargap\": 0.15, \"bargroupgap\": 0.1}, {\"showLink\": true, \"linkText\": \"Export to plot.ly\"})});</script>"
      ]
     },
     "metadata": {},
     "output_type": "display_data"
    }
   ],
   "source": [
    "import numpy as np\n",
    "from plotly import __version__\n",
    "from plotly.offline import download_plotlyjs, init_notebook_mode, plot,iplot\n",
    "print (__version__) # requires version >= 1.9.0\n",
    "\n",
    "\n",
    "#Always run this the command before at the start of notebook\n",
    "init_notebook_mode(connected=True)\n",
    "import plotly.graph_objs as go\n",
    "\n",
    "\n",
    "\n",
    "trace1 = go.Bar(\n",
    "    x=[1996, 1997, 1998, 1999, 2000, 2001, 2002, 2003,\n",
    "       2004, 2005, 2006, 2007],\n",
    "    y=[188870.9, 185182.9, 237697.5, 347187.9, 296716.7,\n",
    "       397833.1, 440204.8, 514254.3, 686016.6, 677746.3, 940057.9, 1881304],\n",
    "    name='All Other Province Leaders',\n",
    "    marker=dict(\n",
    "        color='rgb(55, 83, 109)'\n",
    "    )\n",
    ")\n",
    "trace2 = go.Bar(\n",
    "    x=[1996, 1997, 1998, 1999, 2000, 2001, 2002, 2003,\n",
    "       2004, 2005, 2006, 2007],\n",
    "    y=[260376.0, 264934.7, 367350.2, 463861.2, 199068.5,\n",
    "       216582.6, 298631.8, 409759.3, 830363.2, 878158.0, 1143745.0, 2125891.0],\n",
    "    name='Incumbent Connected Province Leaders',\n",
    "    marker=dict(\n",
    "        color='rgb(26, 118, 255)'\n",
    "    )\n",
    ")\n",
    "data = [trace1, trace2]\n",
    "layout = go.Layout(\n",
    "    title='Specific Purpose Transfers',\n",
    "    xaxis=dict(\n",
    "        tickfont=dict(\n",
    "            size=14,\n",
    "            color='rgb(107, 107, 107)'\n",
    "        )\n",
    "    ),\n",
    "    yaxis=dict(\n",
    "        title='RMB (hundred millions)',\n",
    "        titlefont=dict(\n",
    "            size=16,\n",
    "            color='rgb(107, 107, 107)'\n",
    "        ),\n",
    "        tickfont=dict(\n",
    "            size=14,\n",
    "            color='rgb(107, 107, 107)'\n",
    "        )\n",
    "    ),\n",
    "    legend=dict(\n",
    "        x=0,\n",
    "        y=1.0,\n",
    "        bgcolor='rgba(255, 255, 255, 0)',\n",
    "        bordercolor='rgba(255, 255, 255, 0)'\n",
    "    ),\n",
    "    barmode='group',\n",
    "    bargap=0.15,\n",
    "    bargroupgap=0.1\n",
    ")\n",
    "\n",
    "fig = go.Figure(data=data, layout=layout)\n",
    "\n",
    "iplot(fig, filename='style-bar')"
   ]
  },
  {
   "cell_type": "code",
   "execution_count": null,
   "metadata": {},
   "outputs": [],
   "source": [
    "# Coef Plots\n",
    "\n",
    "coef_df = pd.read_csv('coef.csv')\n",
    "\n",
    "fig, ax = plt.subplots(figsize=(16, 10))\n",
    "coef_df.plot(x='varname', y='coef', kind='bar', \n",
    "             ax=ax, color='none', \n",
    "             yerr='err', legend=False)\n",
    "ax.set_ylabel('')\n",
    "ax.set_xlabel('')\n",
    "ax.scatter(x=pd.np.arange(coef_df.shape[0]), \n",
    "           marker='s', s=120, \n",
    "           y=coef_df['coef'], color='red')\n",
    "ax.axhline(y=0, linestyle='--', color='red', linewidth=4)\n",
    "ax.xaxis.set_ticks_position('none')\n",
    "_ = ax.set_xticklabels(['GDP', 'FDI', 'Incumbent', 'Non Relevant Rival', 'Relevant Rival'], \n",
    "                       rotation=0, fontsize=16)\n",
    "\n",
    "\n"
   ]
  }
 ],
 "metadata": {
  "kernelspec": {
   "display_name": "Python 3",
   "language": "python",
   "name": "python3"
  },
  "language_info": {
   "codemirror_mode": {
    "name": "ipython",
    "version": 3
   },
   "file_extension": ".py",
   "mimetype": "text/x-python",
   "name": "python",
   "nbconvert_exporter": "python",
   "pygments_lexer": "ipython3",
   "version": "3.6.8"
  }
 },
 "nbformat": 4,
 "nbformat_minor": 2
}
