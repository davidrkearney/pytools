{
 "cells": [
  {
   "cell_type": "code",
   "execution_count": 2,
   "metadata": {},
   "outputs": [
    {
     "name": "stdout",
     "output_type": "stream",
     "text": [
      "67\n"
     ]
    }
   ],
   "source": [
    "class cell: \n",
    "      \n",
    "    def __init__(self, x = 0, y = 0, dist = 0): \n",
    "        self.x = x \n",
    "        self.y = y \n",
    "        self.dist = dist \n",
    "          \n",
    "def isInside(x, y, N): \n",
    "    if (x >= 1 and x <= N and \n",
    "        y >= 1 and y <= N):  \n",
    "        return True\n",
    "    return False\n",
    "      \n",
    "def minStepToReachTarget(knightpos,  \n",
    "                         targetpos, N): \n",
    "      \n",
    "    dx = [23, 23, -23, -23, 13, 13, -13, -13] \n",
    "    dy = [13, -13, 13, -13, 23, -23, 23, -23] \n",
    "    \n",
    "      \n",
    "    queue = [] \n",
    "      \n",
    "    queue.append(cell(knightpos[0], knightpos[1], 0)) \n",
    "      \n",
    "    visited = [[False for i in range(N + 1)]  \n",
    "                      for j in range(N + 1)] \n",
    "      \n",
    "    visited[knightpos[0]][knightpos[1]] = True\n",
    "      \n",
    "    while(len(queue) > 0): \n",
    "          \n",
    "        t = queue[0] \n",
    "        queue.pop(0) \n",
    "          \n",
    "\n",
    "        if(t.x == targetpos[0] and \n",
    "           t.y == targetpos[1]): \n",
    "            return t.dist \n",
    "              \n",
    "        for i in range(8): \n",
    "              \n",
    "            x = t.x + dx[i] \n",
    "            y = t.y + dy[i] \n",
    "              \n",
    "            if(isInside(x, y, N) and not visited[x][y]): \n",
    "                visited[x][y] = True\n",
    "                queue.append(cell(x, y, t.dist + 1)) \n",
    "\n",
    "if __name__=='__main__':  \n",
    "    N = 1000\n",
    "    knightpos = [0, 0] \n",
    "    targetpos = [999, 999] \n",
    "    print(minStepToReachTarget(knightpos, \n",
    "                               targetpos, N)) \n",
    "\n",
    "#67\n"
   ]
  }
 ],
 "metadata": {
  "kernelspec": {
   "display_name": "Python 3",
   "language": "python",
   "name": "python3"
  },
  "language_info": {
   "codemirror_mode": {
    "name": "ipython",
    "version": 3
   },
   "file_extension": ".py",
   "mimetype": "text/x-python",
   "name": "python",
   "nbconvert_exporter": "python",
   "pygments_lexer": "ipython3",
   "version": "3.6.8"
  }
 },
 "nbformat": 4,
 "nbformat_minor": 2
}
