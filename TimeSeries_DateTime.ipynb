{
 "cells": [
  {
   "cell_type": "code",
   "execution_count": 2,
   "metadata": {},
   "outputs": [
    {
     "name": "stderr",
     "output_type": "stream",
     "text": [
      "/home/gao/.local/lib/python3.6/site-packages/sklearn/externals/six.py:31: DeprecationWarning: The module is deprecated in version 0.21 and will be removed in version 0.23 since we've dropped support for Python 2.7. Please rely on the official version of six (https://pypi.org/project/six/).\n",
      "  \"(https://pypi.org/project/six/).\", DeprecationWarning)\n"
     ]
    }
   ],
   "source": [
    "# Importing the necessary packages!\n",
    "import pandas as pd\n",
    "import numpy as np\n",
    "import pandas_profiling\n",
    "from sklearn.linear_model import LogisticRegression\n",
    "from sklearn import datasets\n",
    "from sklearn.preprocessing import StandardScaler\n",
    "from sklearn import preprocessing\n",
    "import matplotlib.pyplot as plt \n",
    "%matplotlib inline\n",
    "from sklearn.linear_model import LogisticRegression\n",
    "from sklearn.model_selection import train_test_split\n",
    "import seaborn as sns\n",
    "from imblearn.over_sampling import SMOTE\n",
    "#ignore warnings\n",
    "import warnings\n",
    "warnings.filterwarnings('ignore')"
   ]
  },
  {
   "cell_type": "code",
   "execution_count": 3,
   "metadata": {},
   "outputs": [
    {
     "name": "stdout",
     "output_type": "stream",
     "text": [
      "6 Sunday\n",
      "0 Monday\n",
      "1 Tuesday\n",
      "2 Wednesday\n",
      "3 Thursday\n",
      "4 Friday\n",
      "5 Saturday\n"
     ]
    }
   ],
   "source": [
    "# Create the range of dates here\n",
    "seven_days = pd.date_range(start='2017-1-1', periods=7 )\n",
    "\n",
    "# Iterate over the dates and print the number and name of the weekday\n",
    "for day in seven_days:\n",
    "    print(day.dayofweek, day.weekday_name)\n",
    "\n"
   ]
  },
  {
   "cell_type": "code",
   "execution_count": null,
   "metadata": {},
   "outputs": [],
   "source": [
    "# Inspect data\n",
    "print(data.info())\n",
    "\n",
    "# Convert the date column to datetime64\n",
    "pd.to_datetime(data.date)\n",
    "\n",
    "# Set date column as index\n",
    "data.set_index('date', inplace=True)\n",
    "\n",
    "# Inspect data \n",
    "print(data.info())\n",
    "\n",
    "# Plot data\n",
    "data.plot(subplots=True)\n",
    "plt.show()\n",
    "\n"
   ]
  },
  {
   "cell_type": "code",
   "execution_count": null,
   "metadata": {},
   "outputs": [],
   "source": [
    "# Create dataframe prices here\n",
    "prices = pd.DataFrame()\n",
    "\n",
    "# Select data for each year and concatenate with prices here \n",
    "for year in ['2013', '2014', '2015']:\n",
    "    price_per_year = yahoo.loc[year, ['price']].reset_index(drop=True)\n",
    "    price_per_year.rename(columns={'price': year}, inplace=True)\n",
    "    prices = pd.concat([prices, price_per_year], axis=1)\n",
    "\n",
    "# Plot prices\n",
    "prices.plot()\n",
    "plt.show()"
   ]
  },
  {
   "cell_type": "code",
   "execution_count": null,
   "metadata": {},
   "outputs": [],
   "source": [
    "# Inspect data\n",
    "print(co.info())\n",
    "\n",
    "# Set the frequency to calendar daily\n",
    "co = co.asfreq('D')\n",
    "\n",
    "# Plot the data\n",
    "co.plot(subplots=True)\n",
    "plt.show()\n",
    "\n",
    "# Set frequency to monthly\n",
    "co = co.asfreq('M')\n",
    "\n",
    "# Plot the data\n",
    "co.plot(subplots=True)\n",
    "plt.show()\n",
    "\n"
   ]
  },
  {
   "cell_type": "code",
   "execution_count": null,
   "metadata": {},
   "outputs": [],
   "source": [
    "\n",
    "#Reading in date time\n",
    "\n",
    "#pd.read_csv('x.csv',\n",
    "#           parse_dates=['date'],\n",
    "#           index_col=='date')\n"
   ]
  },
  {
   "cell_type": "code",
   "execution_count": null,
   "metadata": {},
   "outputs": [],
   "source": [
    "# Import data here\n",
    "google = pd.read_csv('google.csv',parse_dates=['Date'], index_col='Date')\n",
    "\n",
    "# Set data frequency to business daily\n",
    "google = google.asfreq('B')\n",
    "\n",
    "# Create 'lagged' and 'shifted'\n",
    "google['lagged'] = google.Close.shift(-90)\n",
    "google['shifted'] = google.Close.shift(90)\n",
    "\n",
    "# Plot the google price series\n",
    "google.plot()\n",
    "plt.show()\n",
    "\n"
   ]
  },
  {
   "cell_type": "code",
   "execution_count": null,
   "metadata": {},
   "outputs": [],
   "source": [
    "# Created shifted_30 here\n",
    "yahoo['shifted_30'] = yahoo.price.shift(30)\n",
    "\n",
    "# Subtract shifted_30 from price\n",
    "yahoo['change_30'] = yahoo.price.sub(yahoo.shifted_30)\n",
    "\n",
    "# Get the 30-day price difference\n",
    "yahoo['diff_30'] = yahoo.price.diff(30)\n",
    "\n",
    "# Inspect the last five rows of price\n",
    "print(yahoo.tail())\n",
    "\n",
    "# Show the value_counts of the difference between change_30 and diff_30\n",
    "print(yahoo.change_30.sub(yahoo.diff_30).value_counts())\n"
   ]
  },
  {
   "cell_type": "code",
   "execution_count": null,
   "metadata": {},
   "outputs": [],
   "source": [
    "# Create daily_return\n",
    "google['daily_return'] = google.Close.pct_change().mul(100)\n",
    "\n",
    "# Create monthly_return\n",
    "google['monthly_return'] = google.Close.pct_change(30).mul(100)\n",
    "\n",
    "# Create annual_return\n",
    "google['annual_return'] = google.Close.pct_change(360).mul(100)\n",
    "\n",
    "# Plot the result\n",
    "google.plot(subplots=True)\n",
    "plt.show()"
   ]
  },
  {
   "cell_type": "code",
   "execution_count": null,
   "metadata": {},
   "outputs": [],
   "source": []
  },
  {
   "cell_type": "code",
   "execution_count": null,
   "metadata": {},
   "outputs": [],
   "source": []
  },
  {
   "cell_type": "code",
   "execution_count": null,
   "metadata": {},
   "outputs": [],
   "source": []
  },
  {
   "cell_type": "code",
   "execution_count": 1,
   "metadata": {},
   "outputs": [
    {
     "name": "stdout",
     "output_type": "stream",
     "text": [
      "Collecting fbprophet\n",
      "  Downloading https://files.pythonhosted.org/packages/33/fb/ad98d46773929079657706e6b2b6e366ba6c282bc2397d8f9b0ea8e5614c/fbprophet-0.5.tar.gz (49kB)\n",
      "\u001b[K    100% |████████████████████████████████| 51kB 796kB/s ta 0:00:011\n",
      "\u001b[?25hCollecting Cython>=0.22 (from fbprophet)\n",
      "  Downloading https://files.pythonhosted.org/packages/45/f2/a7101b3457561e57f5abcd6f5ac13190054fecd7370f58f36fe2d6574742/Cython-0.29.13-cp36-cp36m-manylinux1_x86_64.whl (2.1MB)\n",
      "\u001b[K    100% |████████████████████████████████| 2.1MB 345kB/s ta 0:00:011\n",
      "\u001b[?25hCollecting pystan>=2.14 (from fbprophet)\n",
      "  Downloading https://files.pythonhosted.org/packages/9f/ec/2252bcd6d93f27e726e8616b3e7ed6fb87924aede4afbed22a490980105e/pystan-2.19.0.0-cp36-cp36m-manylinux1_x86_64.whl (67.2MB)\n",
      "\u001b[K    100% |████████████████████████████████| 67.2MB 18kB/s eta 0:00:011    64% |████████████████████▋           | 43.3MB 2.9MB/s eta 0:00:09\n",
      "\u001b[?25hCollecting numpy>=1.10.0 (from fbprophet)\n",
      "  Downloading https://files.pythonhosted.org/packages/19/b9/bda9781f0a74b90ebd2e046fde1196182900bd4a8e1ea503d3ffebc50e7c/numpy-1.17.0-cp36-cp36m-manylinux1_x86_64.whl (20.4MB)\n",
      "\u001b[K    100% |████████████████████████████████| 20.4MB 49kB/s eta 0:00:011\n",
      "\u001b[?25hCollecting pandas>=0.23.4 (from fbprophet)\n",
      "  Downloading https://files.pythonhosted.org/packages/1d/9a/7eb9952f4b4d73fbd75ad1d5d6112f407e695957444cb695cbb3cdab918a/pandas-0.25.0-cp36-cp36m-manylinux1_x86_64.whl (10.5MB)\n",
      "\u001b[K    100% |████████████████████████████████| 10.5MB 96kB/s eta 0:00:01\n",
      "\u001b[?25hCollecting matplotlib>=2.0.0 (from fbprophet)\n",
      "  Using cached https://files.pythonhosted.org/packages/57/4f/dd381ecf6c6ab9bcdaa8ea912e866dedc6e696756156d8ecc087e20817e2/matplotlib-3.1.1-cp36-cp36m-manylinux1_x86_64.whl\n",
      "Collecting lunardate>=0.1.5 (from fbprophet)\n",
      "  Downloading https://files.pythonhosted.org/packages/4e/7e/377a3cbba646ec0cf79433ef858881d809a3b87eb887b0901cb83c66a758/lunardate-0.2.0-py3-none-any.whl\n",
      "Collecting convertdate>=2.1.2 (from fbprophet)\n",
      "  Downloading https://files.pythonhosted.org/packages/74/83/d0fa07078f4d4ae473a89d7d521aafc66d82641ea0af0ef04a47052e8f17/convertdate-2.1.3-py2.py3-none-any.whl\n",
      "Collecting holidays>=0.9.5 (from fbprophet)\n",
      "  Downloading https://files.pythonhosted.org/packages/d0/17/a452275a0b3e811a381137ff6a61649086af4c5bf2a25755f518cc64b39e/holidays-0.9.11.tar.gz (81kB)\n",
      "\u001b[K    100% |████████████████████████████████| 81kB 1.8MB/s ta 0:00:01\n",
      "\u001b[?25hCollecting setuptools-git>=1.2 (from fbprophet)\n",
      "  Downloading https://files.pythonhosted.org/packages/05/97/dd99fa9c0d9627a7b3c103a00f1566d8193aca8d473884ed258cca82b06f/setuptools_git-1.2-py2.py3-none-any.whl\n",
      "Collecting pytz>=2017.2 (from pandas>=0.23.4->fbprophet)\n",
      "  Downloading https://files.pythonhosted.org/packages/87/76/46d697698a143e05f77bec5a526bf4e56a0be61d63425b68f4ba553b51f2/pytz-2019.2-py2.py3-none-any.whl (508kB)\n",
      "\u001b[K    100% |████████████████████████████████| 512kB 507kB/s ta 0:00:011\n",
      "\u001b[?25hCollecting python-dateutil>=2.6.1 (from pandas>=0.23.4->fbprophet)\n",
      "  Using cached https://files.pythonhosted.org/packages/41/17/c62faccbfbd163c7f57f3844689e3a78bae1f403648a6afb1d0866d87fbb/python_dateutil-2.8.0-py2.py3-none-any.whl\n",
      "Collecting cycler>=0.10 (from matplotlib>=2.0.0->fbprophet)\n",
      "  Using cached https://files.pythonhosted.org/packages/f7/d2/e07d3ebb2bd7af696440ce7e754c59dd546ffe1bbe732c8ab68b9c834e61/cycler-0.10.0-py2.py3-none-any.whl\n",
      "Collecting pyparsing!=2.0.4,!=2.1.2,!=2.1.6,>=2.0.1 (from matplotlib>=2.0.0->fbprophet)\n",
      "  Downloading https://files.pythonhosted.org/packages/11/fa/0160cd525c62d7abd076a070ff02b2b94de589f1a9789774f17d7c54058e/pyparsing-2.4.2-py2.py3-none-any.whl (65kB)\n",
      "\u001b[K    100% |████████████████████████████████| 71kB 1.8MB/s ta 0:00:01\n",
      "\u001b[?25hCollecting kiwisolver>=1.0.1 (from matplotlib>=2.0.0->fbprophet)\n",
      "  Using cached https://files.pythonhosted.org/packages/f8/a1/5742b56282449b1c0968197f63eae486eca2c35dcd334bab75ad524e0de1/kiwisolver-1.1.0-cp36-cp36m-manylinux1_x86_64.whl\n",
      "Collecting ephem<3.8,>=3.7.5.3 (from convertdate>=2.1.2->fbprophet)\n",
      "  Downloading https://files.pythonhosted.org/packages/c3/2c/9e1a815add6c222a0d4bf7c644e095471a934a39bc90c201f9550a8f7f14/ephem-3.7.6.0.tar.gz (739kB)\n",
      "\u001b[K    100% |████████████████████████████████| 747kB 442kB/s ta 0:00:01\n",
      "\u001b[?25hCollecting six (from holidays>=0.9.5->fbprophet)\n",
      "  Using cached https://files.pythonhosted.org/packages/73/fb/00a976f728d0d1fecfe898238ce23f502a721c0ac0ecfedb80e0d88c64e9/six-1.12.0-py2.py3-none-any.whl\n",
      "Collecting setuptools (from kiwisolver>=1.0.1->matplotlib>=2.0.0->fbprophet)\n",
      "  Using cached https://files.pythonhosted.org/packages/ec/51/f45cea425fd5cb0b0380f5b0f048ebc1da5b417e48d304838c02d6288a1e/setuptools-41.0.1-py2.py3-none-any.whl\n",
      "Building wheels for collected packages: fbprophet, holidays, ephem\n",
      "  Running setup.py bdist_wheel for fbprophet ... \u001b[?25ldone\n",
      "\u001b[?25h  Stored in directory: /home/gao/.cache/pip/wheels/16/61/45/2dce71b1055b65f28a8b75702664adee6c645e3e294178a202\n",
      "  Running setup.py bdist_wheel for holidays ... \u001b[?25ldone\n",
      "\u001b[?25h  Stored in directory: /home/gao/.cache/pip/wheels/40/a9/2b/94ac5464363d37564a87dc93a9d21a5850aac14a4608197003\n",
      "  Running setup.py bdist_wheel for ephem ... \u001b[?25ldone\n",
      "\u001b[?25h  Stored in directory: /home/gao/.cache/pip/wheels/c2/19/af/23739730a62bb43acb1ff256c9234b0f1a94c4666c140a3c1d\n",
      "Successfully built fbprophet holidays ephem\n",
      "Installing collected packages: Cython, numpy, pystan, pytz, six, python-dateutil, pandas, cycler, pyparsing, setuptools, kiwisolver, matplotlib, lunardate, ephem, convertdate, holidays, setuptools-git, fbprophet\n",
      "Successfully installed Cython-0.29.13 convertdate-2.1.3 cycler-0.10.0 ephem-3.7.6.0 fbprophet-0.5 holidays-0.9.11 kiwisolver-1.1.0 lunardate-0.2.0 matplotlib-3.1.1 numpy-1.17.0 pandas-0.25.0 pyparsing-2.4.2 pystan-2.19.0.0 python-dateutil-2.8.0 pytz-2019.2 setuptools-41.0.1 setuptools-git-1.2 six-1.12.0\n"
     ]
    }
   ],
   "source": [
    "!pip3 install fbprophet"
   ]
  },
  {
   "cell_type": "code",
   "execution_count": null,
   "metadata": {},
   "outputs": [],
   "source": []
  },
  {
   "cell_type": "code",
   "execution_count": null,
   "metadata": {},
   "outputs": [],
   "source": []
  },
  {
   "cell_type": "code",
   "execution_count": null,
   "metadata": {},
   "outputs": [],
   "source": []
  }
 ],
 "metadata": {
  "kernelspec": {
   "display_name": "Python 3",
   "language": "python",
   "name": "python3"
  },
  "language_info": {
   "codemirror_mode": {
    "name": "ipython",
    "version": 3
   },
   "file_extension": ".py",
   "mimetype": "text/x-python",
   "name": "python",
   "nbconvert_exporter": "python",
   "pygments_lexer": "ipython3",
   "version": "3.6.8"
  }
 },
 "nbformat": 4,
 "nbformat_minor": 2
}
